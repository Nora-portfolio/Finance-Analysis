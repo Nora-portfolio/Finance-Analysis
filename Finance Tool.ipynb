{
 "cells": [
  {
   "cell_type": "code",
   "execution_count": 37,
   "id": "77a17abb-23f4-4a9a-9c7b-3a6efe5e3aaa",
   "metadata": {},
   "outputs": [],
   "source": [
    "import pandas as pd\n",
    "import numpy as np\n",
    "import seaborn as sns\n",
    "import matplotlib.pyplot as plt"
   ]
  },
  {
   "cell_type": "code",
   "execution_count": 38,
   "id": "a128e996-08c6-4da6-93df-f1c70cd3f64d",
   "metadata": {},
   "outputs": [],
   "source": [
    "#import excel file\n",
    "data_fin = pd.read_excel(r'D:\\Financing project\\data.xlsx')"
   ]
  },
  {
   "cell_type": "code",
   "execution_count": 39,
   "id": "d351cbf5-ad55-4a81-85b2-f3c26f2eaec3",
   "metadata": {},
   "outputs": [
    {
     "data": {
      "text/html": [
       "<div>\n",
       "<style scoped>\n",
       "    .dataframe tbody tr th:only-of-type {\n",
       "        vertical-align: middle;\n",
       "    }\n",
       "\n",
       "    .dataframe tbody tr th {\n",
       "        vertical-align: top;\n",
       "    }\n",
       "\n",
       "    .dataframe thead th {\n",
       "        text-align: right;\n",
       "    }\n",
       "</style>\n",
       "<table border=\"1\" class=\"dataframe\">\n",
       "  <thead>\n",
       "    <tr style=\"text-align: right;\">\n",
       "      <th></th>\n",
       "      <th>Amount</th>\n",
       "      <th>Date</th>\n",
       "      <th>Category</th>\n",
       "    </tr>\n",
       "  </thead>\n",
       "  <tbody>\n",
       "    <tr>\n",
       "      <th>0</th>\n",
       "      <td>600.0</td>\n",
       "      <td>2024-12-12</td>\n",
       "      <td>accomodation</td>\n",
       "    </tr>\n",
       "    <tr>\n",
       "      <th>1</th>\n",
       "      <td>40.0</td>\n",
       "      <td>2024-11-12</td>\n",
       "      <td>food</td>\n",
       "    </tr>\n",
       "    <tr>\n",
       "      <th>2</th>\n",
       "      <td>50.0</td>\n",
       "      <td>2024-02-01</td>\n",
       "      <td>other</td>\n",
       "    </tr>\n",
       "    <tr>\n",
       "      <th>3</th>\n",
       "      <td>150.0</td>\n",
       "      <td>2024-02-12</td>\n",
       "      <td>loan</td>\n",
       "    </tr>\n",
       "    <tr>\n",
       "      <th>4</th>\n",
       "      <td>5000.0</td>\n",
       "      <td>2024-12-30</td>\n",
       "      <td>income</td>\n",
       "    </tr>\n",
       "  </tbody>\n",
       "</table>\n",
       "</div>"
      ],
      "text/plain": [
       "   Amount        Date      Category\n",
       "0   600.0  2024-12-12  accomodation\n",
       "1    40.0  2024-11-12          food\n",
       "2    50.0  2024-02-01         other\n",
       "3   150.0  2024-02-12          loan\n",
       "4  5000.0  2024-12-30        income"
      ]
     },
     "execution_count": 39,
     "metadata": {},
     "output_type": "execute_result"
    }
   ],
   "source": [
    "data_fin.head()"
   ]
  },
  {
   "cell_type": "code",
   "execution_count": null,
   "id": "a4f5ef4b-fd2f-4db0-8a8b-c3a01c386562",
   "metadata": {},
   "outputs": [],
   "source": []
  },
  {
   "cell_type": "markdown",
   "id": "3eb15310-2761-4457-9755-11f048b80399",
   "metadata": {},
   "source": [
    "PREPAIR = Reorganize by delete null cells and duplicates\n"
   ]
  },
  {
   "cell_type": "code",
   "execution_count": 40,
   "id": "e1317731-3a2b-4236-a435-2098a3b6a69d",
   "metadata": {},
   "outputs": [
    {
     "data": {
      "text/plain": [
       "Amount      7\n",
       "Date        7\n",
       "Category    7\n",
       "dtype: int64"
      ]
     },
     "execution_count": 40,
     "metadata": {},
     "output_type": "execute_result"
    }
   ],
   "source": [
    "#check null\n",
    "data_fin.isnull().sum()"
   ]
  },
  {
   "cell_type": "code",
   "execution_count": 41,
   "id": "cda94f04-26c4-4ced-9a41-ab107afe7af6",
   "metadata": {},
   "outputs": [],
   "source": [
    "#delete but not create a new dataframe\n",
    "data_fin.dropna(inplace=True)"
   ]
  },
  {
   "cell_type": "code",
   "execution_count": 42,
   "id": "f3576824-d059-49e7-bf5d-3c75402fc397",
   "metadata": {},
   "outputs": [
    {
     "data": {
      "text/plain": [
       "Amount      0\n",
       "Date        0\n",
       "Category    0\n",
       "dtype: int64"
      ]
     },
     "execution_count": 42,
     "metadata": {},
     "output_type": "execute_result"
    }
   ],
   "source": [
    "#check output\n",
    "data_fin.isnull().sum()"
   ]
  },
  {
   "cell_type": "code",
   "execution_count": null,
   "id": "c6b869ec-e67a-414f-a02d-54d9ab26e3ae",
   "metadata": {},
   "outputs": [],
   "source": []
  },
  {
   "cell_type": "code",
   "execution_count": 43,
   "id": "b0bfa20d-f832-4b03-92d6-67d1b1107a35",
   "metadata": {},
   "outputs": [],
   "source": [
    "#duplicate\n",
    "data_fin = data_fin.drop_duplicates()"
   ]
  },
  {
   "cell_type": "code",
   "execution_count": null,
   "id": "831f5eca-a842-4b39-adf5-eeb427eacc38",
   "metadata": {},
   "outputs": [],
   "source": []
  },
  {
   "cell_type": "markdown",
   "id": "b7eb7d3f-cfa5-47dc-b67e-327baedf5be6",
   "metadata": {},
   "source": [
    "CREATE A NEW COLUMN: create column which show the month of each cell for future calculation"
   ]
  },
  {
   "cell_type": "code",
   "execution_count": 44,
   "id": "a0dacec1-6279-4fc8-ba12-3518e74fbbbb",
   "metadata": {},
   "outputs": [],
   "source": [
    "# Converting the 'Date' column to datetime\n",
    "data_fin['Date'] = pd.to_datetime(data_fin['Date'])"
   ]
  },
  {
   "cell_type": "code",
   "execution_count": null,
   "id": "86b5f39f-62d9-491b-a38e-bf9a2f75b1bc",
   "metadata": {},
   "outputs": [],
   "source": []
  },
  {
   "cell_type": "code",
   "execution_count": 45,
   "id": "aaf260f5-68c0-4d45-929e-5b097a79bc2d",
   "metadata": {},
   "outputs": [],
   "source": [
    "# Initialize an empty list for storing month names\n",
    "months = []\n",
    "\n",
    "for date in data_fin['Date']:\n",
    "    # Append the month name to the list\n",
    "    months.append(date.strftime('%B'))\n",
    "\n",
    "# Add the new 'Month' column to the DataFrame\n",
    "data_fin['Month'] = months"
   ]
  },
  {
   "cell_type": "code",
   "execution_count": 46,
   "id": "6ba42c02-d1fc-48ca-b32b-45f5170d9845",
   "metadata": {},
   "outputs": [
    {
     "data": {
      "text/html": [
       "<div>\n",
       "<style scoped>\n",
       "    .dataframe tbody tr th:only-of-type {\n",
       "        vertical-align: middle;\n",
       "    }\n",
       "\n",
       "    .dataframe tbody tr th {\n",
       "        vertical-align: top;\n",
       "    }\n",
       "\n",
       "    .dataframe thead th {\n",
       "        text-align: right;\n",
       "    }\n",
       "</style>\n",
       "<table border=\"1\" class=\"dataframe\">\n",
       "  <thead>\n",
       "    <tr style=\"text-align: right;\">\n",
       "      <th></th>\n",
       "      <th>Amount</th>\n",
       "      <th>Date</th>\n",
       "      <th>Category</th>\n",
       "      <th>Month</th>\n",
       "    </tr>\n",
       "  </thead>\n",
       "  <tbody>\n",
       "    <tr>\n",
       "      <th>0</th>\n",
       "      <td>600.0</td>\n",
       "      <td>2024-12-12</td>\n",
       "      <td>accomodation</td>\n",
       "      <td>December</td>\n",
       "    </tr>\n",
       "    <tr>\n",
       "      <th>1</th>\n",
       "      <td>40.0</td>\n",
       "      <td>2024-11-12</td>\n",
       "      <td>food</td>\n",
       "      <td>November</td>\n",
       "    </tr>\n",
       "    <tr>\n",
       "      <th>2</th>\n",
       "      <td>50.0</td>\n",
       "      <td>2024-02-01</td>\n",
       "      <td>other</td>\n",
       "      <td>February</td>\n",
       "    </tr>\n",
       "    <tr>\n",
       "      <th>3</th>\n",
       "      <td>150.0</td>\n",
       "      <td>2024-02-12</td>\n",
       "      <td>loan</td>\n",
       "      <td>February</td>\n",
       "    </tr>\n",
       "    <tr>\n",
       "      <th>4</th>\n",
       "      <td>5000.0</td>\n",
       "      <td>2024-12-30</td>\n",
       "      <td>income</td>\n",
       "      <td>December</td>\n",
       "    </tr>\n",
       "  </tbody>\n",
       "</table>\n",
       "</div>"
      ],
      "text/plain": [
       "   Amount       Date      Category     Month\n",
       "0   600.0 2024-12-12  accomodation  December\n",
       "1    40.0 2024-11-12          food  November\n",
       "2    50.0 2024-02-01         other  February\n",
       "3   150.0 2024-02-12          loan  February\n",
       "4  5000.0 2024-12-30        income  December"
      ]
     },
     "execution_count": 46,
     "metadata": {},
     "output_type": "execute_result"
    }
   ],
   "source": [
    "#check ouput\n",
    "data_fin.head()"
   ]
  },
  {
   "cell_type": "code",
   "execution_count": null,
   "id": "022a1aeb-2c87-477a-a6a8-fa7057cbf3e8",
   "metadata": {},
   "outputs": [],
   "source": []
  },
  {
   "cell_type": "markdown",
   "id": "1ccc2357-7cf1-4853-b1fa-7da40f9fc322",
   "metadata": {},
   "source": [
    "EXPORT FILE"
   ]
  },
  {
   "cell_type": "code",
   "execution_count": 47,
   "id": "d034e544-6fba-45d2-aa8b-5ec75124de31",
   "metadata": {},
   "outputs": [],
   "source": [
    "from openpyxl import load_workbook"
   ]
  },
  {
   "cell_type": "code",
   "execution_count": 48,
   "id": "74a898cd-1d6b-4e3b-b3e9-debc5cfd1b55",
   "metadata": {},
   "outputs": [
    {
     "name": "stdout",
     "output_type": "stream",
     "text": [
      "Data appended successfully!\n"
     ]
    }
   ],
   "source": [
    "data_fin['Date'] = pd.to_datetime(data_fin['Date'])\n",
    "\n",
    "try:\n",
    "    # Append the data to an existing file\n",
    "    with pd.ExcelWriter(r'D:\\Financing project/data_final.xlsx', engine='openpyxl', mode='a', if_sheet_exists='overlay') as writer:\n",
    "        # Write the DataFrame to a new sheet\n",
    "        data_fin.to_excel(writer, sheet_name='Input', index=False)\n",
    "        print(\"Data appended successfully!\")\n",
    "except FileNotFoundError:\n",
    "    # If the file doesn't exist, create a new one\n",
    "    data_fin.to_excel(r'D:\\Financing project\\data.xlsx/data_final.xlsx', index=False)\n",
    "    print(\"File not found. A new file has been created!\")\n"
   ]
  }
 ],
 "metadata": {
  "kernelspec": {
   "display_name": "Python 3 (ipykernel)",
   "language": "python",
   "name": "python3"
  },
  "language_info": {
   "codemirror_mode": {
    "name": "ipython",
    "version": 3
   },
   "file_extension": ".py",
   "mimetype": "text/x-python",
   "name": "python",
   "nbconvert_exporter": "python",
   "pygments_lexer": "ipython3",
   "version": "3.12.7"
  }
 },
 "nbformat": 4,
 "nbformat_minor": 5
}
